{
 "cells": [
  {
   "cell_type": "markdown",
   "metadata": {},
   "source": [
    "# MNIST project\n",
    "\n",
    "Tensorflow, etc. not allowed. \n",
    "\n",
    "## Part 1\n",
    "\n",
    "### Problem 2\n",
    "\n",
    "Make a function read_labels(filename) to read a file containing labels (integers 0-9) in the format described under FILE FORMATS FOR THE MNIST DATABASE. The function should return a list of integers. Test your method on the files t10k-labels.idx1-ubyte.gz and train-labels.idx1-ubyte.gz (the first five values of the 10.000 values in t10k-labels.idx1-ubyte.gz are [7, 2, 1, 0, 4]). The function should check if the magic number of the file is 2049."
   ]
  },
  {
   "cell_type": "code",
   "execution_count": 12,
   "metadata": {},
   "outputs": [],
   "source": [
    "import numpy as np\n",
    "\n",
    "def read_labels(filename):\n",
    "    with open(filename, 'rb') as f:\n",
    "        data = f.read()\n",
    "    magic, num_items = np.frombuffer(data[:8], dtype='>i4')\n",
    "    if magic != 2049:\n",
    "        raise ValueError('Wrong magic number, moron')\n",
    "    return np.frombuffer(data[8:], dtype='uint8')\n",
    "\n",
    "# read_labels('t10k-labels.idx1-ubyte')"
   ]
  },
  {
   "cell_type": "markdown",
   "metadata": {},
   "source": [
    "### Problem 3\n",
    "\n",
    "Make a function read_images(filename) to read a file containing MNIST images in the format described under FILE FORMATS FOR THE MNIST DATABASE. Test your method on the files t10k-images.idx3-ubyte.gz and train-images.idx3-ubyte.gz. The function should return a three dimensional list of integers, such that images[image][row][column] is a pixel value (an integer in the range 0..255), and 0 ≤ row, column < 28 and 0 ≤ image < 10000 for t10k-images.idx3-ubyte.gz. The function should check if the magic number of the file is 2051.\n",
    "\n"
   ]
  },
  {
   "cell_type": "code",
   "execution_count": 13,
   "metadata": {},
   "outputs": [],
   "source": [
    "def read_images(filename):\n",
    "    with open(filename, 'rb') as f:\n",
    "        data = f.read()\n",
    "    magic, num_items, num_rows, num_cols = np.frombuffer(data[:16], dtype='>i4')\n",
    "    if magic != 2051:\n",
    "        raise ValueError('Wrong number, moron')\n",
    "    return np.frombuffer(data[16:], dtype='uint8').reshape(num_items, num_rows, num_cols)\n",
    "\n",
    "# read_images('t10k-images.idx3-ubyte')"
   ]
  },
  {
   "cell_type": "code",
   "execution_count": 14,
   "metadata": {},
   "outputs": [],
   "source": [
    "\n",
    "images = read_images('t10k-images.idx3-ubyte')\n",
    "labels = read_labels('t10k-labels.idx1-ubyte')"
   ]
  },
  {
   "cell_type": "markdown",
   "metadata": {},
   "source": [
    "### Problem 4 \n",
    "\n",
    "Make a function plot_images(images, labels) to show a set of images and their corresponding labels as titles using imshow from matplotlib.pyplot. Show the first few images from t10k-images.idx3-ubyte.gz with their labels from t10k-labels.idx1-ubyte.gz as titles. Remember to select an appropriate colormap for imshow.\n"
   ]
  },
  {
   "cell_type": "code",
   "execution_count": 15,
   "metadata": {},
   "outputs": [
    {
     "data": {
      "image/png": "[encoded data removed]",
      "text/plain": [
       "<Figure size 1000x400 with 10 Axes>"
      ]
     },
     "metadata": {},
     "output_type": "display_data"
    }
   ],
   "source": [
    "import matplotlib.pyplot as plt \n",
    "\n",
    "def plot_images(images, labels):\n",
    "    cols = 5\n",
    "    rows = (len(labels) + cols - 1) // cols \n",
    "\n",
    "    plt.figure(figsize=(cols * 2, rows * 2))\n",
    "\n",
    "    for i, (img, lab) in enumerate(zip(images, labels)): \n",
    "        plt.subplot(rows, cols, i+1)\n",
    "        plt.imshow(img, cmap='binary')\n",
    "        plt.title(str(lab))\n",
    "        plt.xticks([])\n",
    "        plt.yticks([])\n",
    "\n",
    "    plt.tight_layout()\n",
    "    plt.show()\n",
    "\n",
    "plot_images(images[:10], labels[:10])\n"
   ]
  },
  {
   "cell_type": "markdown",
   "metadata": {},
   "source": [
    "## Part 2\n",
    "\n",
    "### Problem 1\n",
    "\n",
    "Write functions linear_load(file_name) and linear_save(file_name, network) to load and save a linear classifier network = (A, b) using JSON. Test your functions on mnist_linear.weights.\n",
    "\n"
   ]
  },
  {
   "cell_type": "code",
   "execution_count": 16,
   "metadata": {},
   "outputs": [],
   "source": [
    "import json\n",
    "\n",
    "def linear_load(filename):\n",
    "    with open(filename, 'r') as f:\n",
    "        weights = eval(f.read().strip())\n",
    "        return [np.array(w) for w in weights]\n",
    "    \n",
    "def linear_save(filename, network):\n",
    "    A, b = network\n",
    "    np.savez(filename, A, b)"
   ]
  },
  {
   "cell_type": "markdown",
   "metadata": {},
   "source": [
    "### Problem 2 \n",
    "\n",
    "Write function image_to_vector(image) that converts an image (list-of-lists) with integer pixel values in the range [0, 255] to an image vector (list) with pixel values being floats in the range [0, 1].\n",
    "\n"
   ]
  },
  {
   "cell_type": "code",
   "execution_count": 17,
   "metadata": {},
   "outputs": [],
   "source": [
    "def image_to_vector(image):\n",
    "    return image.reshape(1, image.size) / 255"
   ]
  },
  {
   "cell_type": "markdown",
   "metadata": {},
   "source": [
    "### Problem 3\n",
    "\n",
    "Write functions for basic linear algebra add(U, V), sub(U, V), scalar_multiplication(scalar, V) multiply(V, M), transpose(M) where V and U are vectors and M is a matrix. Include assertions to check if the dimensions of the arguments to add and multiply fit.\n",
    "\n"
   ]
  },
  {
   "cell_type": "code",
   "execution_count": 18,
   "metadata": {},
   "outputs": [],
   "source": [
    "def add(U, V):\n",
    "    assert len(U) == len(V), 'Vectors must be of equal length.'\n",
    "    return [U[i] + V[i] for i in range(len(U))]\n",
    "\n",
    "def sub(U, V):\n",
    "    assert len(U) == len(V), 'Vectors must be of equal length.'\n",
    "    return [U[i] - V[i] for i in range(len(U))]\n",
    "\n",
    "def scalar_mult(c, V):\n",
    "    return [c * v for v in V]\n",
    "\n",
    "def mult(V, M):\n",
    "    assert len(M) == len(V), 'Rowcount must equal vector length.'\n",
    "    return [sum(V[i] * M[i][j] for i in range(len(V))) for j in range(len(M[0]))]\n",
    "\n",
    "def transpose(M):\n",
    "    return [[M[i][j] for i in range(len(M))] for j in range(len(M[0]))]"
   ]
  },
  {
   "cell_type": "markdown",
   "metadata": {},
   "source": [
    "### Problem 4 \n",
    "\n",
    "Write a function mean_square_error(U, V) to compute the mean squared error between two vectors.\n",
    "\n"
   ]
  },
  {
   "cell_type": "code",
   "execution_count": 19,
   "metadata": {},
   "outputs": [],
   "source": [
    "def mse(U, V):\n",
    "    assert len(U) == len(V), 'Vectors must be of equal length'\n",
    "    return ((U-V)**2).mean()"
   ]
  },
  {
   "cell_type": "markdown",
   "metadata": {},
   "source": [
    "### Problem 5\n",
    "\n",
    "Write function a function argmax(V) that returns an index into the list V with maximal value (corresponding to numpy.argmax).\n",
    "\n"
   ]
  },
  {
   "cell_type": "code",
   "execution_count": 20,
   "metadata": {},
   "outputs": [],
   "source": [
    "def argmax(V):\n",
    "    return V.index(max(V))"
   ]
  },
  {
   "cell_type": "markdown",
   "metadata": {},
   "source": [
    "### Problem 6\n",
    "\n",
    "Implement a function categorical(label, classes=10) that takes a label from [0, 9] and returns a vector of length classes, with all entries being zero, except entry label that equals one. For an image with this label, the categorical vector is the expected ideal output of a perfect network for the image.\n",
    "\n"
   ]
  },
  {
   "cell_type": "code",
   "execution_count": 21,
   "metadata": {},
   "outputs": [],
   "source": [
    "def categorical(label, classes=10):\n",
    "    a = np.zeros(classes)\n",
    "    a[label] = 1\n",
    "    return a"
   ]
  },
  {
   "cell_type": "markdown",
   "metadata": {},
   "source": [
    "### Problem 7\n",
    "\n",
    "Write a function predict(network, image) that returns xA + b, given a network (A, b) and a list of images.\n",
    "\n"
   ]
  },
  {
   "cell_type": "code",
   "execution_count": 22,
   "metadata": {},
   "outputs": [],
   "source": [
    "def predict(network, images):\n",
    "    A, b = network\n",
    "    return images.reshape(len(images), 28*28) / 255 @ A + b "
   ]
  },
  {
   "cell_type": "markdown",
   "metadata": {},
   "source": [
    "### Problem 8\n",
    "\n",
    "Create a function evaluate(network, images, labels) that given a list of image vectors and corresponding labels, returns the tuple (predictions, cost, accuracy), where predictions is a list of the predicted labels for the images, cost is the average of mean square errors over all input-output pairs, and accuracy the fraction of inputs where the predicted labels are correct. Apply this to the loaded network and the 10.000 test images in t10k-images. The accuracy should be around 92%, whereas the cost should be 230 (the cost is very bad since the network was trained to optimze the cost measure softmax).\n",
    "\n"
   ]
  },
  {
   "cell_type": "code",
   "execution_count": 23,
   "metadata": {},
   "outputs": [],
   "source": [
    "def evaluate(network, images, labels, cost=mse):\n",
    "    A, b = network\n",
    "    fitted_vals = predict(network, images)\n",
    "    predictions = np.argmax(fitted_vals, axis=1)\n",
    "    categoricals = np.eye(A.shape[1])[labels]\n",
    "    loss = cost(fitted_vals, categoricals)\n",
    "    accuracy = np.mean(predictions == labels)\n",
    "\n",
    "    return predictions, loss, accuracy"
   ]
  },
  {
   "cell_type": "markdown",
   "metadata": {},
   "source": [
    "### Problem 9\n",
    "\n",
    "Extend plot_images to take an optional argument prediction that is a list of predicted labels for the images, and visualizes if the prediction is correct or wrong. Test it on a set of images from t10k-images and their correct labels from t10k-labels.\n",
    "\n"
   ]
  },
  {
   "cell_type": "code",
   "execution_count": 24,
   "metadata": {},
   "outputs": [],
   "source": [
    "def plot_images(images, labels, prediction=[]):\n",
    "    cols = 5\n",
    "    rows = (len(labels) + cols - 1) // cols \n",
    "\n",
    "    plt.figure(figsize=(cols * 2, rows * 2))\n",
    "    \n",
    "    if len(prediction) == len(labels):\n",
    "        for i, (img, lab, pred) in enumerate(zip(images, labels, prediction)): \n",
    "            plt.subplot(rows, cols, i+1)\n",
    "            if lab == pred:\n",
    "                plt.imshow(img, cmap='binary')\n",
    "                plt.title(str(lab))\n",
    "            else:\n",
    "                plt.imshow(img, cmap='Reds')\n",
    "                plt.title(f'{pred}, correct {lab}', color='red')\n",
    "\n",
    "            plt.xticks([])\n",
    "            plt.yticks([])\n",
    "    else:\n",
    "        for i, (img, lab) in enumerate(zip(images, labels)): \n",
    "            plt.subplot(rows, cols, i+1)\n",
    "            plt.imshow(img, cmap='binary')\n",
    "            plt.title(str(lab))\n",
    "            plt.xticks([])\n",
    "            plt.yticks([])\n",
    "\n",
    "\n",
    "    plt.tight_layout()\n",
    "    plt.show()\n",
    "\n",
    "images2 = read_images('t10k-images.idx3-ubyte')\n",
    "labels = read_labels('t10k-labels.idx1-ubyte')\n",
    "\n",
    "# plot_images(images2[:10], labels[:10], predictions[:10])\n"
   ]
  },
  {
   "cell_type": "markdown",
   "metadata": {},
   "source": [
    "### Problem 10\n",
    "\n",
    "Column i of matrix A contains the (positive or negative) weight of each input pixel for class i, i.e. the contribution of the pixels towards the image showing the digit i. Use imshow to visualize each column (each column is a vector of length 784 that should be reshaped to an image of size 28 × 28).\n",
    "\n"
   ]
  },
  {
   "cell_type": "code",
   "execution_count": 25,
   "metadata": {},
   "outputs": [
    {
     "data": {
      "image/png": "[encoded data removed]",
      "text/plain": [
       "<Figure size 1000x1000 with 10 Axes>"
      ]
     },
     "metadata": {},
     "output_type": "display_data"
    }
   ],
   "source": [
    "classes = 10 \n",
    "size = 28\n",
    "A = linear_load('mnist_linear.weights')[0]\n",
    "\n",
    "\n",
    "plt.figure(figsize=(classes, classes))\n",
    "for i in range(classes):\n",
    "    plt.subplot(5, 5, i+1)\n",
    "    plt.imshow([A.T[i][j:j+size] for j in range(0,len(A.T[i]), size)])\n",
    "    plt.title(str(i))\n",
    "    plt.xticks([])\n",
    "    plt.yticks([])\n",
    "\n",
    "\n",
    "plt.tight_layout()\n",
    "plt.show()\n"
   ]
  },
  {
   "cell_type": "markdown",
   "metadata": {},
   "source": [
    "## Part 3\n",
    "\n",
    "### Problem 1 \n",
    "\n",
    "Create function create_batches(values, batch_size) that partitions a list of values into batches of size batch_size, except for the last batch, that can be smaller. The list should be permuted before being cut into batches.\n",
    "\n"
   ]
  },
  {
   "cell_type": "code",
   "execution_count": 26,
   "metadata": {},
   "outputs": [],
   "source": [
    "def create_batches(values, batch_size):\n",
    "    return np.array_split(values, np.arange(batch_size, len(values), batch_size))"
   ]
  },
  {
   "cell_type": "markdown",
   "metadata": {},
   "source": [
    "### Problem 2 \n",
    "\n",
    "Create a function update(network, images, labels) that updates the network network = (A, b) given a batch of n image vectors and corresponding output labels (performs one step of a stochastical gradient descend in the 784 · 10 + 10 = 7850 dimensional space where all entries of A and b are considered to be variables).\n",
    "\n",
    "For each input in the batch, we consider the tuple (x, a, y), where x is the image vector, a = xA + b the current network’s output on input x, and y the corresponding categorical vector for the label. The biases b and weights A are updated as follows:\n",
    "\n",
    "bj -= σ · (1 / n) · ∑(x,a,y) 2 · (aj - yj) / 10\n",
    "\n",
    "Aij -= σ · (1 / n) · ∑(x,a,y) xi · 2 · (aj - yj) / 10\n",
    "\n",
    "For this problem an appropriate value for the step size σ of the gradient descend is σ = 0.1.\n",
    "\n",
    "In the above equations 2 · (aj -yj) / 10 is the derivative of the cost function (mean squared error) wrt. to the output aj, whereas xi · 2 · (aj - yj) / 10 is the derivative of the cost function w.r.t. to Aij — both for a specific image (x, a, y)."
   ]
  },
  {
   "cell_type": "code",
   "execution_count": 27,
   "metadata": {},
   "outputs": [],
   "source": [
    "# Cross-entropy (see Part 4, Problem 1)\n",
    "def softmax(a):\n",
    "    return np.exp(a)/np.sum(np.exp(a), axis=1)[:, np.newaxis]\n",
    "\n",
    "def ce(a, y):\n",
    "    return - np.mean(y * np.log(softmax(a)))\n",
    "\n",
    "def update(network, images, labels, cost=mse, sigma=0.1): \n",
    "    A, b = network\n",
    "    n = len(labels)\n",
    "    x = images.reshape(n, 28*28).T / 255\n",
    "    a = predict(network, images)\n",
    "    y = np.eye(A.shape[1])[labels]\n",
    "    if cost == mse:\n",
    "        A -= 2 * sigma/n * x @ (a - y) / 10\n",
    "        b -= sigma/n * np.sum(2 * (a - y) / 10, axis=0)        \n",
    "    if cost == ce:\n",
    "        A -= sigma/n * x @ (softmax(a)-y)\n",
    "        b -= sigma/n * np.sum(softmax(a)-y, axis=0)\n",
    "    return A, b"
   ]
  },
  {
   "cell_type": "markdown",
   "metadata": {},
   "source": [
    "### Problem 3\n",
    "\n",
    "Create a function learn(images, labels, epochs, batch_size) to train an initially random network on a set of image vectors and labels. First initialize the network to contain random weights: each value of b to be a uniform random value in [0, 1], and each value in A to be a uniform random value in [0, 1 / 784]. Then perform epochs epochs, each epoch consiting of partitioning the input into batches of batch_size images, and calling update with each of the batches. Try running your learning function with epochs=5 and batch_size=100 on the MNIST training set train-images and train-labels.\n",
    "\n"
   ]
  },
  {
   "cell_type": "code",
   "execution_count": 30,
   "metadata": {},
   "outputs": [
    {
     "name": "stdout",
     "output_type": "stream",
     "text": [
      "Epoch 1 complete. Accuracy: 0.8266 - loss: 0.059\n",
      "Epoch 2 complete. Accuracy: 0.8429 - loss: 0.053\n",
      "Epoch 3 complete. Accuracy: 0.8473 - loss: 0.05\n",
      "Epoch 4 complete. Accuracy: 0.8541 - loss: 0.047\n",
      "Epoch 5 complete. Accuracy: 0.8572 - loss: 0.045\n",
      "Epoch 6 complete. Accuracy: 0.8646 - loss: 0.044\n",
      "Epoch 7 complete. Accuracy: 0.8635 - loss: 0.042\n",
      "Epoch 8 complete. Accuracy: 0.8682 - loss: 0.042\n",
      "Epoch 9 complete. Accuracy: 0.865 - loss: 0.041\n",
      "Epoch 10 complete. Accuracy: 0.8716 - loss: 0.04\n"
     ]
    }
   ],
   "source": [
    "def learn(images, labels, epochs, batch_size, cost=mse):\n",
    "    A = np.random.uniform(0, 1/784, (784, 10))\n",
    "    b = np.random.uniform(0, 1, 10)\n",
    "    network = A, b\n",
    "    test_images = read_images('t10k-images.idx3-ubyte')\n",
    "    test_labels = read_labels('t10k-labels.idx1-ubyte')\n",
    "    for i in range(epochs):\n",
    "        indices = np.random.permutation(len(images))\n",
    "        images = images[indices]\n",
    "        labels = labels[indices] \n",
    "        \n",
    "        images_batches = create_batches(images, batch_size)\n",
    "        labels_batches = create_batches(labels, batch_size)\n",
    "        for j in range(len(labels_batches)):\n",
    "            network = update(network, images_batches[j], labels_batches[j], cost)\n",
    "        loss, acc = evaluate(network, test_images, test_labels)[1:]\n",
    "        print(f'Epoch {i+1} complete. Accuracy: {acc} - loss: {round(loss, 3)}')\n",
    "\n",
    "    return network \n",
    "\n",
    "network = learn(images, labels, epochs=10, batch_size=100)\n"
   ]
  },
  {
   "cell_type": "markdown",
   "metadata": {},
   "source": [
    "## Part 4 \n",
    "\n",
    "### Problem 1 \n",
    "\n",
    "Instead of using the mean squared error as the cost function try to use the categorical cross entropy (see e.g. this blog): On output a where the expected output is the categorical vector y, the categorical cross entropy is defined as CE(y, softmax(a)), where softmax(a)i = eai / (∑j eaj) and the cross entropy is defined as CE(y, â) = - ∑i (yi · log âi).\n",
    "\n"
   ]
  },
  {
   "cell_type": "code",
   "execution_count": 37,
   "metadata": {},
   "outputs": [
    {
     "name": "stdout",
     "output_type": "stream",
     "text": [
      "Epoch 1 complete. Accuracy: 0.8676 - loss: 2.953\n",
      "Epoch 2 complete. Accuracy: 0.8854 - loss: 4.636\n",
      "Epoch 3 complete. Accuracy: 0.8953 - loss: 5.915\n",
      "Epoch 4 complete. Accuracy: 0.9028 - loss: 7.01\n",
      "Epoch 5 complete. Accuracy: 0.9056 - loss: 7.776\n",
      "Epoch 6 complete. Accuracy: 0.9112 - loss: 8.693\n",
      "Epoch 7 complete. Accuracy: 0.9133 - loss: 9.196\n",
      "Epoch 8 complete. Accuracy: 0.9147 - loss: 9.812\n",
      "Epoch 9 complete. Accuracy: 0.9158 - loss: 10.359\n",
      "Epoch 10 complete. Accuracy: 0.9182 - loss: 10.882\n"
     ]
    },
    {
     "data": {
      "text/plain": [
       "(784, 10)"
      ]
     },
     "execution_count": 37,
     "metadata": {},
     "output_type": "execute_result"
    }
   ],
   "source": [
    "def softmax(a):\n",
    "    return np.exp(a)/np.sum(np.exp(a), axis=1, keepdims=True)\n",
    "\n",
    "def ce(a, y):\n",
    "    return - np.mean(y * np.log(softmax(a)))\n",
    "\n",
    "network = learn(images, labels, epochs=10, batch_size=100, cost=ce)"
   ]
  },
  {
   "cell_type": "markdown",
   "metadata": {},
   "source": [
    "### Problem 2 \n",
    "\n",
    "Load your own handwritten digit and use it to test the model. "
   ]
  },
  {
   "cell_type": "code",
   "execution_count": null,
   "metadata": {},
   "outputs": [
    {
     "name": "stdout",
     "output_type": "stream",
     "text": [
      "5\n"
     ]
    },
    {
     "data": {
      "image/png": "[encoded data removed]",
      "text/plain": [
       "<Figure size 640x480 with 1 Axes>"
      ]
     },
     "metadata": {},
     "output_type": "display_data"
    }
   ],
   "source": [
    "from PIL import Image \n",
    "\n",
    "image = Image.open('hand5.png').convert('L')\n",
    "image = 255 - np.array(image)\n",
    "\n",
    "A, b = network\n",
    "\n",
    "print(np.argmax(image.reshape(1, 784) / 255 @ A + b))\n",
    "\n",
    "plt.imshow(image, cmap='binary')\n",
    "plt.xticks([])\n",
    "plt.yticks([])\n",
    "plt.show()\n"
   ]
  },
  {
   "cell_type": "markdown",
   "metadata": {},
   "source": [
    "### Problem 3\n",
    "\n",
    "Add a hidden layer to the model. (ReLU)"
   ]
  },
  {
   "cell_type": "code",
   "execution_count": 4,
   "metadata": {},
   "outputs": [],
   "source": [
    "import numpy as np\n",
    "\n",
    "def initialize_network(input_size, hidden_size, output_size):\n",
    "    W1 = np.random.randn(input_size, hidden_size) / 784\n",
    "    b1 = np.random.randn(1, hidden_size)\n",
    "    W2 = np.random.randn(hidden_size, output_size) / 784\n",
    "    b2 = np.random.randn(1, output_size)\n",
    "    return W1, b1, W2, b2 \n",
    "\n",
    "def softmax(a):\n",
    "    exp_a = np.exp(a - np.max(a, axis=1, keepdims=True)) # Prevent exp(inf)\n",
    "    return exp_a / np.sum(exp_a, axis=1, keepdims=True)\n",
    "\n",
    "def cross_entropy(a, y):\n",
    "    eps = 1e-15\n",
    "    a = np.clip(a, eps, 1-eps) # Prevent log(0)\n",
    "    return -np.sum(y * np.log(a)) / y.shape[0]\n",
    "\n",
    "def ReLU(x):\n",
    "    return x * (x > 0)\n",
    "\n",
    "def forward_pass(network, X):\n",
    "    W1, b1, W2, b2 = network\n",
    "    Z1 = X @ W1 + b1\n",
    "    A1 = ReLU(Z1)\n",
    "    Z2 = A1 @ W2 + b2 \n",
    "    A2 = softmax(Z2)\n",
    "    return Z1, A1, Z2, A2 \n",
    "\n",
    "def back_prop(network, forward_cache, X, Y):\n",
    "    Z1, A1, Z2, A2 = forward_cache\n",
    "    W2 = network[2]\n",
    "    m = X.shape[0]\n",
    "\n",
    "    # Gradients \n",
    "    dZ2 = A2 - Y\n",
    "    dW2 = A1.T @ dZ2 / m \n",
    "    db2 = np.sum(dZ2) / m\n",
    "\n",
    "    dA1 = dZ2 @ W2.T\n",
    "    dZ1 = dA1 * (Z1 > 0)\n",
    "    dW1 = X.T @ dZ1 / m \n",
    "    db1 = np.sum(dZ1) / m\n",
    "\n",
    "    return dW2, db2, dW1, db1\n",
    "\n",
    "def update(network, gradients, sigma=0.1):\n",
    "    W1, b1, W2, b2 = network\n",
    "    dW2, db2, dW1, db1 = gradients\n",
    "\n",
    "    W1 = W1 - sigma * dW1\n",
    "    b1 = b1 - sigma * db1 \n",
    "    W2 = W2 - sigma * dW2\n",
    "    b2 = b2 - sigma * db2\n",
    "    return W1, b1, W2, b2\n",
    "\n",
    "def learn(network, X, Y, epochs, batch_size, sigma=0.1):\n",
    "    for epoch in range(epochs):\n",
    "        indices = np.random.permutation(len(X))\n",
    "        X_shuffle = X[indices]\n",
    "        Y_shuffle = Y[indices]\n",
    "\n",
    "        for i in range(0, X.shape[0], batch_size):\n",
    "            X_batch = X_shuffle[i:i+batch_size]\n",
    "            Y_batch = Y_shuffle[i:i+batch_size]\n",
    "            forward_cache = forward_pass(network, X_batch)\n",
    "            gradients = back_prop(network, forward_cache, X_batch, Y_batch)\n",
    "            network = update(network, gradients)\n",
    "\n",
    "        A2_full = forward_pass(network, X)[2]\n",
    "        loss = cross_entropy(A2_full, Y)\n",
    "        acc = np.mean(np.argmax(A2_full, axis=1) == np.argmax(Y, axis=1))\n",
    "        print(f'Epoch {epoch+1}/{epochs}')\n",
    "        print(f'Accuracy: {acc:.4f} - loss: {loss:.4f}')\n",
    "        print()\n",
    "    \n",
    "    return network"
   ]
  },
  {
   "cell_type": "code",
   "execution_count": 5,
   "metadata": {},
   "outputs": [
    {
     "name": "stdout",
     "output_type": "stream",
     "text": [
      "Epoch 1/10\n",
      "Accuracy: 0.8915 - loss: 0.2274\n",
      "\n",
      "Epoch 2/10\n",
      "Accuracy: 0.9126 - loss: 0.1619\n",
      "\n",
      "Epoch 3/10\n",
      "Accuracy: 0.9200 - loss: 0.1422\n",
      "\n",
      "Epoch 4/10\n",
      "Accuracy: 0.9254 - loss: 0.1274\n",
      "\n",
      "Epoch 5/10\n",
      "Accuracy: 0.9279 - loss: 0.1178\n",
      "\n",
      "Epoch 6/10\n",
      "Accuracy: 0.9292 - loss: 0.1111\n",
      "\n",
      "Epoch 7/10\n",
      "Accuracy: 0.9309 - loss: 0.1058\n",
      "\n",
      "Epoch 8/10\n",
      "Accuracy: 0.9341 - loss: 0.0974\n",
      "\n",
      "Epoch 9/10\n",
      "Accuracy: 0.9355 - loss: 0.0932\n",
      "\n",
      "Epoch 10/10\n",
      "Accuracy: 0.9379 - loss: 0.0874\n",
      "\n"
     ]
    }
   ],
   "source": [
    "def read_images(filename):\n",
    "    with open(filename, 'rb') as f:\n",
    "        data = f.read()\n",
    "    magic, num_items, num_rows, num_cols = np.frombuffer(data[:16], dtype='>i4')\n",
    "    if magic != 2051:\n",
    "        raise ValueError('Wrong number, moron')\n",
    "    return np.frombuffer(data[16:], dtype='uint8').reshape(num_items, num_rows, num_cols)\n",
    "\n",
    "def read_labels(filename):\n",
    "    with open(filename, 'rb') as f:\n",
    "        data = f.read()\n",
    "    magic, num_items = np.frombuffer(data[:8], dtype='>i4')\n",
    "    if magic != 2049:\n",
    "        raise ValueError('Wrong number, moron')\n",
    "    return np.frombuffer(data[8:], dtype='uint8')\n",
    "\n",
    "# Flatten images \n",
    "X = read_images('train-images.idx3-ubyte').reshape(60000, 784) / 255\n",
    "\n",
    "# One-hot encode labels\n",
    "Y = np.eye(10)[read_labels('train-labels.idx1-ubyte')]\n",
    "\n",
    "network = initialize_network(input_size=784, hidden_size=16, output_size=10)\n",
    "network = learn(network, X, Y, epochs=10, batch_size=100, sigma=0.01)"
   ]
  },
  {
   "cell_type": "markdown",
   "metadata": {},
   "source": [
    "Evaluating model on test data"
   ]
  },
  {
   "cell_type": "code",
   "execution_count": 7,
   "metadata": {},
   "outputs": [
    {
     "name": "stdout",
     "output_type": "stream",
     "text": [
      "Accuracy: 0.9379 - loss: 0.0810\n"
     ]
    }
   ],
   "source": [
    "X_test = read_images('t10k-images.idx3-ubyte').reshape(10000, 784) / 255\n",
    "Y_test = read_labels('t10k-labels.idx1-ubyte')\n",
    "\n",
    "A2 = forward_pass(network, X_test)[2]\n",
    "predict = np.argmax(A2, axis=1)\n",
    "print(f'Accuracy: {np.mean(predict == Y_test):.4f} - loss: {cross_entropy(A2, np.eye(10)[Y_test]):.4f}')\n"
   ]
  },
  {
   "cell_type": "markdown",
   "metadata": {},
   "source": [
    "Testing on hand-drawn digit"
   ]
  },
  {
   "cell_type": "code",
   "execution_count": 30,
   "metadata": {},
   "outputs": [
    {
     "name": "stdout",
     "output_type": "stream",
     "text": [
      "5\n"
     ]
    },
    {
     "data": {
      "image/png": "[encoded data removed]",
      "text/plain": [
       "<Figure size 640x480 with 1 Axes>"
      ]
     },
     "metadata": {},
     "output_type": "display_data"
    }
   ],
   "source": [
    "import matplotlib.pyplot as plt\n",
    "from PIL import Image \n",
    "\n",
    "image = Image.open('hand5.png').convert('L')\n",
    "image = 255 - np.array(image)\n",
    "x = image.reshape(1, 784) / 255\n",
    "A2_x = forward_pass(network, x)[2]\n",
    "print(np.argmax(A2_x))\n",
    "\n",
    "plt.imshow(image, cmap='binary')\n",
    "plt.xticks([])\n",
    "plt.yticks([])\n",
    "plt.show()\n",
    "\n"
   ]
  },
  {
   "cell_type": "markdown",
   "metadata": {},
   "source": [
    "### Problem 4\n",
    "\n",
    "Optional: Compare your pure Python solution with the solution using Keras, e.g. on running time, accuracy achieved, epochs.\n"
   ]
  },
  {
   "cell_type": "code",
   "execution_count": 28,
   "metadata": {},
   "outputs": [
    {
     "name": "stdout",
     "output_type": "stream",
     "text": [
      "Epoch 1/10\n",
      "\u001b[1m600/600\u001b[0m \u001b[32m━━━━━━━━━━━━━━━━━━━━\u001b[0m\u001b[37m\u001b[0m \u001b[1m3s\u001b[0m 4ms/step - accuracy: 0.8672 - loss: 0.4754\n",
      "Epoch 2/10\n",
      "\u001b[1m600/600\u001b[0m \u001b[32m━━━━━━━━━━━━━━━━━━━━\u001b[0m\u001b[37m\u001b[0m \u001b[1m2s\u001b[0m 3ms/step - accuracy: 0.9606 - loss: 0.1307\n",
      "Epoch 3/10\n",
      "\u001b[1m600/600\u001b[0m \u001b[32m━━━━━━━━━━━━━━━━━━━━\u001b[0m\u001b[37m\u001b[0m \u001b[1m2s\u001b[0m 3ms/step - accuracy: 0.9747 - loss: 0.0836\n",
      "Epoch 4/10\n",
      "\u001b[1m600/600\u001b[0m \u001b[32m━━━━━━━━━━━━━━━━━━━━\u001b[0m\u001b[37m\u001b[0m \u001b[1m2s\u001b[0m 3ms/step - accuracy: 0.9801 - loss: 0.0639\n",
      "Epoch 5/10\n",
      "\u001b[1m600/600\u001b[0m \u001b[32m━━━━━━━━━━━━━━━━━━━━\u001b[0m\u001b[37m\u001b[0m \u001b[1m2s\u001b[0m 3ms/step - accuracy: 0.9843 - loss: 0.0510\n",
      "Epoch 6/10\n",
      "\u001b[1m600/600\u001b[0m \u001b[32m━━━━━━━━━━━━━━━━━━━━\u001b[0m\u001b[37m\u001b[0m \u001b[1m2s\u001b[0m 3ms/step - accuracy: 0.9880 - loss: 0.0385\n",
      "Epoch 7/10\n",
      "\u001b[1m600/600\u001b[0m \u001b[32m━━━━━━━━━━━━━━━━━━━━\u001b[0m\u001b[37m\u001b[0m \u001b[1m2s\u001b[0m 3ms/step - accuracy: 0.9903 - loss: 0.0313\n",
      "Epoch 8/10\n",
      "\u001b[1m600/600\u001b[0m \u001b[32m━━━━━━━━━━━━━━━━━━━━\u001b[0m\u001b[37m\u001b[0m \u001b[1m3s\u001b[0m 4ms/step - accuracy: 0.9915 - loss: 0.0258\n",
      "Epoch 9/10\n",
      "\u001b[1m600/600\u001b[0m \u001b[32m━━━━━━━━━━━━━━━━━━━━\u001b[0m\u001b[37m\u001b[0m \u001b[1m2s\u001b[0m 3ms/step - accuracy: 0.9937 - loss: 0.0207\n",
      "Epoch 10/10\n",
      "\u001b[1m600/600\u001b[0m \u001b[32m━━━━━━━━━━━━━━━━━━━━\u001b[0m\u001b[37m\u001b[0m \u001b[1m2s\u001b[0m 3ms/step - accuracy: 0.9951 - loss: 0.0167\n"
     ]
    },
    {
     "data": {
      "text/plain": [
       "<keras.src.callbacks.history.History at 0x2815f9d62d0>"
      ]
     },
     "execution_count": 28,
     "metadata": {},
     "output_type": "execute_result"
    }
   ],
   "source": [
    "from tensorflow import keras\n",
    "\n",
    "(images_train, labels_train), (images_test, labels_test) = keras.datasets.mnist.load_data(path='mnist.npz')\n",
    "\n",
    "# Flatten and normalize images\n",
    "images_train = images_train.reshape(60000, 28*28).astype('float32') / 255\n",
    "images_test = images_test.reshape(10000, 28*28).astype('float32') / 255\n",
    "\n",
    "# One-hot encode labels \n",
    "labels_train, labels_test = map(keras.utils.to_categorical, (labels_train, labels_test))\n",
    "\n",
    "# Initialize neural network \n",
    "network = keras.models.Sequential()\n",
    "network.add(keras.Input(shape=(28 * 28,)))\n",
    "\n",
    "# 2 hidden layers\n",
    "network.add(keras.layers.Dense(128, activation='relu'))\n",
    "network.add(keras.layers.Dense(128, activation='relu'))\n",
    "network.add(keras.layers.Dense(10, activation='softmax'))\n",
    "\n",
    "network.compile(\n",
    "    optimizer='rmsprop',\n",
    "    loss='categorical_crossentropy',  # for small loss\n",
    "    metrics=['accuracy']\n",
    ")\n",
    "\n",
    "network.fit(images_train, labels_train, epochs=10, batch_size=100)\n"
   ]
  },
  {
   "cell_type": "code",
   "execution_count": 29,
   "metadata": {},
   "outputs": [
    {
     "name": "stdout",
     "output_type": "stream",
     "text": [
      "\u001b[1m313/313\u001b[0m \u001b[32m━━━━━━━━━━━━━━━━━━━━\u001b[0m\u001b[37m\u001b[0m \u001b[1m1s\u001b[0m 3ms/step - accuracy: 0.9745 - loss: 0.1154\n"
     ]
    },
    {
     "data": {
      "text/plain": [
       "[0.09817425906658173, 0.9768999814987183]"
      ]
     },
     "execution_count": 29,
     "metadata": {},
     "output_type": "execute_result"
    }
   ],
   "source": [
    "network.save('mnist_tensorflow.keras')\n",
    "model = keras.models.load_model('mnist_tensorflow.keras')\n",
    "\n",
    "model.evaluate(images_test, labels_test)"
   ]
  }
 ],
 "metadata": {
  "kernelspec": {
   "display_name": "Python 3",
   "language": "python",
   "name": "python3"
  },
  "language_info": {
   "codemirror_mode": {
    "name": "ipython",
    "version": 3
   },
   "file_extension": ".py",
   "mimetype": "text/x-python",
   "name": "python",
   "nbconvert_exporter": "python",
   "pygments_lexer": "ipython3",
   "version": "3.12.8"
  }
 },
 "nbformat": 4,
 "nbformat_minor": 2
}
